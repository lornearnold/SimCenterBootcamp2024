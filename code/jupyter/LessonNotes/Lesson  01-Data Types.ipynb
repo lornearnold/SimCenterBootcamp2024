{
 "cells": [
  {
   "cell_type": "markdown",
   "metadata": {},
   "source": [
    "# A Python Quick Start Tutorial\n",
    "# Lesson \\#1: Basic data types and functions\n",
    "## by Peter Mackenzie-Helnwein\n",
    "University of Washington, Seattle, WA\n",
    "\n",
    "pmackenz@uw.edu          \n",
    "https://www.ce.washington.edu/facultyfinder/peter-mackenzie-helnwein"
   ]
  },
  {
   "cell_type": "markdown",
   "metadata": {},
   "source": [
    "## Resources\n",
    "\n",
    "   1. Python Docs: https://docs.python.org/3/\n",
    "   \n",
    "   1. Python Tutorial (comprehensive): https://docs.python.org/3/tutorial/index.html\n",
    "   \n",
    "   1. Python Library Reference (the nitty-gritty details): https://docs.python.org/3/library/index.html\n",
    "   \n",
    "   1. Everything else: http://google.com\n",
    "   "
   ]
  },
  {
   "cell_type": "markdown",
   "metadata": {},
   "source": [
    "## Discussing questions from the self-study assignment\n",
    "\n",
    "This section is to discuss your questions\n"
   ]
  },
  {
   "cell_type": "markdown",
   "metadata": {},
   "source": [
    "### Exercise 1\n",
    "\n",
    "**Theory**:\n",
    "Stress transformation\n",
    "\n",
    "$$\n",
    "\\begin{aligned}\n",
    "\\sigma_{x}' &= \\sigma_{x} \\cos^2\\theta + \\sigma_{y} \\sin^2\\theta + 2\\tau_{xy} \\sin\\theta \\cos\\theta \\\\\n",
    "\\sigma_{y}' &= \\sigma_{x} \\sin^2\\theta + \\sigma_{y} \\cos^2\\theta - 2\\tau_{xy} \\sin\\theta \\cos\\theta \\\\\n",
    "\\tau_{xy}'  &= (\\sigma_{y} - \\sigma_{x}) \\sin\\theta \\cos\\theta + \\tau_{xy} (\\cos^2\\theta - \\sin^2\\theta) \\\\\n",
    "\\end{aligned}\n",
    "$$\n",
    "\n",
    "**Given**:\n",
    "Stress state:\n",
    "\n",
    "$$\n",
    "\\sigma_{x} = 12~ksi~,\n",
    "~~~\n",
    "\\sigma_{y} = -5.5~ksi~,\n",
    "~~~\n",
    "\\tau_{xy} = 3.5~ksi \n",
    "$$\n",
    "\n",
    "**Find**:\n",
    "Components of stress in a rotated coordinate system for $\\theta=25^\\circ$."
   ]
  },
  {
   "cell_type": "code",
   "execution_count": 1,
   "metadata": {},
   "outputs": [],
   "source": [
    "# theta needs to be in radians\n",
    "# sin and cos are not part of phython\n",
    "\n",
    "from math import sin, cos, pi, radians"
   ]
  },
  {
   "cell_type": "code",
   "execution_count": 2,
   "metadata": {},
   "outputs": [],
   "source": [
    "sigmax = 12.\n",
    "sigmay = -5.5\n",
    "tau    =  3.5"
   ]
  },
  {
   "cell_type": "code",
   "execution_count": 3,
   "metadata": {},
   "outputs": [],
   "source": [
    "theta = radians( 25. )\n",
    "\n",
    "sigmaxp = sigmax*cos(theta)**2 + sigmay*sin(theta)**2 + 2*tau*sin(theta)*cos(theta)\n",
    "sigmayp = sigmay*sin(theta)**2 + sigmax*cos(theta)**2 - 2*tau*sin(theta)*cos(theta)\n",
    "taup    = (sigmay - sigmax)*sin(theta)*cos(theta) + tau*(cos(theta)**2 - sin(theta)**2)"
   ]
  },
  {
   "cell_type": "code",
   "execution_count": 4,
   "metadata": {},
   "outputs": [
    {
     "name": "stdout",
     "output_type": "stream",
     "text": [
      "sigx'=11.56, sigy'=6.19, tau'=-4.45\n"
     ]
    }
   ],
   "source": [
    "print(f\"sigx'={sigmaxp:.2f}, sigy'={sigmayp:.2f}, tau'={taup:.2f}\")"
   ]
  },
  {
   "cell_type": "markdown",
   "metadata": {},
   "source": [
    "### Exercise 2\n",
    "\n",
    "Convert the calculation from exercise 1 to a function"
   ]
  },
  {
   "cell_type": "code",
   "execution_count": 5,
   "metadata": {},
   "outputs": [],
   "source": [
    "def stressTransform(sigx, sigy, tauxy, theta):\n",
    "    \"\"\"\n",
    "    Transform the stress components sigx, sigy, and tauxy from the original\n",
    "\n",
    "    Parameters:\n",
    "    sigx: float, the original stress in the x-direction\n",
    "    sigy: float, the original stress in the y-direction\n",
    "    tauxy: float, the original shear stress\n",
    "    theta: float, the angle of rotation in degrees\n",
    "\n",
    "    \"\"\"\n",
    "    theta = radians(theta)\n",
    "\n",
    "    sig_xp = sigx*cos(theta)**2 + sigy*sin(theta)**2 + 2*tauxy*sin(theta)*cos(theta)\n",
    "    sig_yp = sigy*sin(theta)**2 + sigx*cos(theta)**2 - 2*tauxy*sin(theta)*cos(theta)\n",
    "    tau_xyp    = (sigy - sigx)*sin(theta)*cos(theta) + tauxy*(cos(theta)**2 - sin(theta)**2)\n",
    "    return (sig_xp, sig_yp, tau_xyp)"
   ]
  },
  {
   "cell_type": "markdown",
   "metadata": {},
   "source": [
    "Test your function for \n",
    "\n",
    "* $\\theta=0$ (what should the result look like?)\n",
    "* $\\theta=25^\\circ$\n",
    "* $\\theta=180^\\circ$"
   ]
  },
  {
   "cell_type": "code",
   "execution_count": 6,
   "metadata": {},
   "outputs": [
    {
     "name": "stdout",
     "output_type": "stream",
     "text": [
      "sigx'=12.00, sigy'=12.00, tau'=3.50\n"
     ]
    }
   ],
   "source": [
    "s1,s2,s3 = stressTransform(12., -5.5, 3.5, 0.0)\n",
    "\n",
    "print(f\"sigx'={s1:.2f}, sigy'={s2:.2f}, tau'={s3:.2f}\")"
   ]
  },
  {
   "cell_type": "code",
   "execution_count": 7,
   "metadata": {},
   "outputs": [
    {
     "name": "stdout",
     "output_type": "stream",
     "text": [
      "sigx'=11.56, sigy'=6.19, tau'=-4.45\n"
     ]
    }
   ],
   "source": [
    "stress = stressTransform(12., -5.5, 3.5, 25)\n",
    "\n",
    "print(f\"sigx'={stress[0]:.2f}, sigy'={stress[1]:.2f}, tau'={stress[2]:.2f}\")"
   ]
  },
  {
   "cell_type": "code",
   "execution_count": 8,
   "metadata": {},
   "outputs": [
    {
     "name": "stdout",
     "output_type": "stream",
     "text": [
      "sigx'=12.00, sigy'=12.00, tau'=3.50\n"
     ]
    }
   ],
   "source": [
    "stress = stressTransform(12., -5.5, 3.5, 180)\n",
    "\n",
    "print(\"sigx'={:.2f}, sigy'={:.2f}, tau'={:.2f}\".format(*stress))"
   ]
  },
  {
   "cell_type": "markdown",
   "metadata": {},
   "source": [
    "### Exercise 3\n",
    "\n",
    "Let's use this function to study stress transformation.  In order to do so,\n",
    "\n",
    "1. Create a list of 81 evenly spaced $\\theta$-values from $0^\\circ$ to $180^\\circ$.\n",
    "2. Compute the transformed stress for each of these values and collect the results in three lists: \n",
    "\n",
    "       sigmax_values = ...\n",
    "       sigmay_values = ...\n",
    "       tauxy_values = ...\n",
    "\n",
    "3. print a nice table with 4 columns: $\\theta$, $\\sigma_x'$, $\\sigma_y'$, $\\tau_{xy}'$"
   ]
  },
  {
   "cell_type": "code",
   "execution_count": 9,
   "metadata": {},
   "outputs": [
    {
     "name": "stdout",
     "output_type": "stream",
     "text": [
      "|theta\t| sigx'\t| sigy'\t| tau'\t|\n",
      "|0.00\t| 12.00\t| 12.00\t| 3.50\t|\n",
      "|2.25\t| 12.25\t| 11.70\t| 2.80\t|\n",
      "|4.50\t| 12.44\t| 11.34\t| 2.09\t|\n",
      "|6.75\t| 12.58\t| 10.94\t| 1.36\t|\n",
      "|9.00\t| 12.65\t| 10.49\t| 0.62\t|\n",
      "|11.25\t| 12.67\t| 9.99\t| -0.11\t|\n",
      "|13.50\t| 12.64\t| 9.46\t| -0.85\t|\n",
      "|15.75\t| 12.54\t| 8.88\t| -1.59\t|\n",
      "|18.00\t| 12.39\t| 8.27\t| -2.31\t|\n",
      "|20.25\t| 12.18\t| 7.63\t| -3.02\t|\n",
      "|22.50\t| 11.91\t| 6.96\t| -3.71\t|\n",
      "|24.75\t| 11.59\t| 6.27\t| -4.38\t|\n",
      "|27.00\t| 11.22\t| 5.56\t| -5.02\t|\n",
      "|29.25\t| 10.81\t| 4.84\t| -5.63\t|\n",
      "|31.50\t| 10.34\t| 4.10\t| -6.21\t|\n",
      "|33.75\t| 9.83\t| 3.36\t| -6.74\t|\n",
      "|36.00\t| 9.28\t| 2.63\t| -7.24\t|\n",
      "|38.25\t| 8.70\t| 1.89\t| -7.69\t|\n",
      "|40.50\t| 8.08\t| 1.16\t| -8.09\t|\n",
      "|42.75\t| 7.43\t| 0.45\t| -8.45\t|\n",
      "|45.00\t| 6.75\t| -0.25\t| -8.75\t|\n",
      "|47.25\t| 6.05\t| -0.93\t| -9.00\t|\n",
      "|49.50\t| 5.34\t| -1.58\t| -9.19\t|\n",
      "|51.75\t| 4.61\t| -2.20\t| -9.33\t|\n",
      "|54.00\t| 3.87\t| -2.78\t| -9.40\t|\n",
      "|56.25\t| 3.14\t| -3.33\t| -9.42\t|\n",
      "|58.50\t| 2.40\t| -3.84\t| -9.39\t|\n",
      "|60.75\t| 1.66\t| -4.31\t| -9.29\t|\n",
      "|63.00\t| 0.94\t| -4.72\t| -9.14\t|\n",
      "|65.25\t| 0.23\t| -5.09\t| -8.93\t|\n",
      "|67.50\t| -0.46\t| -5.41\t| -8.66\t|\n",
      "|69.75\t| -1.13\t| -5.68\t| -8.34\t|\n",
      "|72.00\t| -1.77\t| -5.89\t| -7.97\t|\n",
      "|74.25\t| -2.38\t| -6.04\t| -7.56\t|\n",
      "|76.50\t| -2.96\t| -6.14\t| -7.09\t|\n",
      "|78.75\t| -3.49\t| -6.17\t| -6.58\t|\n",
      "|81.00\t| -3.99\t| -6.15\t| -6.03\t|\n",
      "|83.25\t| -4.44\t| -6.08\t| -5.45\t|\n",
      "|85.50\t| -4.84\t| -5.94\t| -4.83\t|\n",
      "|87.75\t| -5.20\t| -5.75\t| -4.18\t|\n",
      "|90.00\t| -5.50\t| -5.50\t| -3.50\t|\n",
      "|92.25\t| -5.75\t| -5.20\t| -2.80\t|\n",
      "|94.50\t| -5.94\t| -4.84\t| -2.09\t|\n",
      "|96.75\t| -6.08\t| -4.44\t| -1.36\t|\n",
      "|99.00\t| -6.15\t| -3.99\t| -0.62\t|\n",
      "|101.25\t| -6.17\t| -3.49\t| 0.11\t|\n",
      "|103.50\t| -6.14\t| -2.96\t| 0.85\t|\n",
      "|105.75\t| -6.04\t| -2.38\t| 1.59\t|\n",
      "|108.00\t| -5.89\t| -1.77\t| 2.31\t|\n",
      "|110.25\t| -5.68\t| -1.13\t| 3.02\t|\n",
      "|112.50\t| -5.41\t| -0.46\t| 3.71\t|\n",
      "|114.75\t| -5.09\t| 0.23\t| 4.38\t|\n",
      "|117.00\t| -4.72\t| 0.94\t| 5.02\t|\n",
      "|119.25\t| -4.31\t| 1.66\t| 5.63\t|\n",
      "|121.50\t| -3.84\t| 2.40\t| 6.21\t|\n",
      "|123.75\t| -3.33\t| 3.14\t| 6.74\t|\n",
      "|126.00\t| -2.78\t| 3.87\t| 7.24\t|\n",
      "|128.25\t| -2.20\t| 4.61\t| 7.69\t|\n",
      "|130.50\t| -1.58\t| 5.34\t| 8.09\t|\n",
      "|132.75\t| -0.93\t| 6.05\t| 8.45\t|\n",
      "|135.00\t| -0.25\t| 6.75\t| 8.75\t|\n",
      "|137.25\t| 0.45\t| 7.43\t| 9.00\t|\n",
      "|139.50\t| 1.16\t| 8.08\t| 9.19\t|\n",
      "|141.75\t| 1.89\t| 8.70\t| 9.33\t|\n",
      "|144.00\t| 2.63\t| 9.28\t| 9.40\t|\n",
      "|146.25\t| 3.36\t| 9.83\t| 9.42\t|\n",
      "|148.50\t| 4.10\t| 10.34\t| 9.39\t|\n",
      "|150.75\t| 4.84\t| 10.81\t| 9.29\t|\n",
      "|153.00\t| 5.56\t| 11.22\t| 9.14\t|\n",
      "|155.25\t| 6.27\t| 11.59\t| 8.93\t|\n",
      "|157.50\t| 6.96\t| 11.91\t| 8.66\t|\n",
      "|159.75\t| 7.63\t| 12.18\t| 8.34\t|\n",
      "|162.00\t| 8.27\t| 12.39\t| 7.97\t|\n",
      "|164.25\t| 8.88\t| 12.54\t| 7.56\t|\n",
      "|166.50\t| 9.46\t| 12.64\t| 7.09\t|\n",
      "|168.75\t| 9.99\t| 12.67\t| 6.58\t|\n",
      "|171.00\t| 10.49\t| 12.65\t| 6.03\t|\n",
      "|173.25\t| 10.94\t| 12.58\t| 5.45\t|\n",
      "|175.50\t| 11.34\t| 12.44\t| 4.83\t|\n",
      "|177.75\t| 11.70\t| 12.25\t| 4.18\t|\n",
      "|180.00\t| 12.00\t| 12.00\t| 3.50\t|\n"
     ]
    }
   ],
   "source": [
    "# sigmax_values = []\n",
    "# sigmay_values = []\n",
    "# tauxy_values  = []\n",
    "\n",
    "# YOUR CODE for 1.\n",
    "angles = [i*180/80 for i in range(81)]\n",
    "\n",
    "# YOUR CODE for 2.\n",
    "stress_values = [stressTransform(sigmax, sigmay, tau, theta)[:] for theta in angles]\n",
    "sigmax_values, sigmay_values, tauxy_values = zip(*stress_values)\n",
    "\n",
    "\n",
    "# YOUR CODE for 3.\n",
    "print(\"|theta\\t| sigx'\\t| sigy'\\t| tau'\\t|\")\n",
    "for i in range(len(angles)):\n",
    "    print(f\"|{angles[i]:.2f}\\t| {sigmax_values[i]:.2f}\\t| {sigmay_values[i]:.2f}\\t| {tauxy_values[i]:.2f}\\t|\")\n"
   ]
  },
  {
   "cell_type": "markdown",
   "metadata": {},
   "source": [
    "### Exercise 4: Explore plotting in python\n",
    "\n",
    "For this, check out https://matplotlib.org/stable/gallery/lines_bars_and_markers/simple_plot.html\n",
    "\n",
    "I copied the demo code below so you can modify it to plot $(\\sigma_{x}'/\\tau_{xy}')$ and  $(\\sigma_{y}'/-\\tau_{xy}')$ curves from the data collected in `sigmax_values`, `sigmay_values`, `tauxy_values`"
   ]
  },
  {
   "cell_type": "code",
   "execution_count": 11,
   "metadata": {},
   "outputs": [
    {
     "name": "stderr",
     "output_type": "stream",
     "text": [
      "<>:8: SyntaxWarning: invalid escape sequence '\\s'\n",
      "<>:8: SyntaxWarning: invalid escape sequence '\\s'\n",
      "/var/folders/q0/kxmqm5c95n7cxc6mmqklw1k40000gq/T/ipykernel_62956/1052974660.py:8: SyntaxWarning: invalid escape sequence '\\s'\n",
      "  ax.set(xlabel=\"$\\sigma_x$\", ylabel='$\\\\tau_y$',\n"
     ]
    },
    {
     "data": {
      "application/vnd.jupyter.widget-view+json": {
       "model_id": "3174f2ae41c942d5b8403d06c41b2b9b",
       "version_major": 2,
       "version_minor": 0
      },
      "image/png": "[encoded data removed]",
      "text/html": [
       "\n",
       "            <div style=\"display: inline-block;\">\n",
       "                <div class=\"jupyter-widgets widget-label\" style=\"text-align: center;\">\n",
       "                    Figure\n",
       "                </div>\n",
       "                <img src='data:image/png;base64,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' width=640.0/>\n",
       "            </div>\n",
       "        "
      ],
      "text/plain": [
       "Canvas(toolbar=Toolbar(toolitems=[('Home', 'Reset original view', 'home', 'home'), ('Back', 'Back to previous …"
      ]
     },
     "metadata": {},
     "output_type": "display_data"
    }
   ],
   "source": [
    "#import matplotlib\n",
    "import matplotlib.pyplot as plt\n",
    "%matplotlib widget\n",
    "\n",
    "fig, ax = plt.subplots()\n",
    "ax.plot(sigmax_values, tauxy_values)\n",
    "\n",
    "ax.set(xlabel='$\\\\sigma_x$', ylabel='$\\\\tau_y$',\n",
    "       title='About as simple as it gets, folks')\n",
    "ax.grid()\n",
    "ax.set_aspect('equal')\n",
    "\n",
    "# I comment writing the figure to file ... makes this quicker\n",
    "# fig.savefig(\"test.png\")\n",
    "plt.show()"
   ]
  },
  {
   "cell_type": "markdown",
   "metadata": {},
   "source": [
    "**Remark**: This was just to wet your appetite! We will talk much more about `numpy` and `matplotlib` next week."
   ]
  },
  {
   "cell_type": "markdown",
   "metadata": {},
   "source": [
    "## Exercise 5: List versus dictionary\n",
    "\n",
    "You could express the stress state as\n",
    "\n",
    "1. three independent variables - the way we did it thus far\n",
    "\n",
    "2. a list of three values: `stress = `$[\\sigma_x, \\sigma_y, \\tau_{xy}]$ and replace\n",
    "\n",
    "        sigma_x --> stress[0]\n",
    "        sigma_y --> stress[2]\n",
    "        tau_xy  --> stress[3]\n",
    "        \n",
    "3. a dictionary \n",
    "\n",
    "        stress = {'sigx': 12.0, 'sigy': -5.5, 'tau':3.50}\n",
    "        \n",
    "   and replace\n",
    "\n",
    "        sigma_x --> stress['sigx']\n",
    "        sigma_y --> stress['sigy']\n",
    "        tau_xy  --> stress['tau']\n",
    "\n",
    "**Discuss**:\n",
    "\n",
    "1. Pros and cons for coding the equations\n",
    "2. Pros and cons for coding the function(s)\n",
    "3. How woud code and function change when switching from 2D to 3D (6 components instead of 3 components)\n",
    "\n",
    "Feel free to implement an alternative form of stressTrannsform() that looks like this:"
   ]
  },
  {
   "cell_type": "code",
   "execution_count": 56,
   "metadata": {},
   "outputs": [],
   "source": [
    "def stress_transform(stress, theta):\n",
    "    \"\"\"\n",
    "    Transform the components of the 2D stress tensor by rotating the coordinate system by theta degrees.\n",
    "\n",
    "    Parameters:\n",
    "    stress: tuple (sigma_x, sigma_y, tau_xy), \n",
    "            list [sigma_x, sigma_y, tau_xy], or \n",
    "            dict {\"sig_x\": sigma_x, \"sig_y\": sigma_y, \"tau_xy\": tau_xy}\n",
    "    theta: float, the angle of rotation in degrees\n",
    "\n",
    "    \"\"\"\n",
    "    \n",
    "    theta = radians(theta)\n",
    "    sin_theta = sin(theta)\n",
    "    cos_theta = cos(theta)\n",
    "\n",
    "    if  isinstance(stress, (list, tuple)):\n",
    "        sigma_x, sigma_y, tau_xy = stress\n",
    "    else:\n",
    "        required_keys = {\"sig_x\", \"sig_y\", \"tau_xy\"}\n",
    "        if not required_keys.issubset(stress.keys()):\n",
    "            raise KeyError(f\"The 'stress' dictionary must contain the keys: {required_keys}\")\n",
    "        sigma_x = stress[\"sig_x\"]\n",
    "        sigma_y = stress[\"sig_y\"]\n",
    "        tau_xy = stress[\"tau_xy\"]\n",
    "\n",
    "    sx_p = sigma_x*cos_theta**2 + sigma_y*sin_theta**2 + 2*tau_xy*sin_theta*cos_theta\n",
    "    sy_p = sigma_y*sin_theta**2 + sigma_x*cos_theta**2 - 2*tau_xy*sin_theta*cos_theta\n",
    "    txy_p = (sigma_y - sigma_x)*sin_theta*cos_theta + tau_xy*(cos_theta**2 - sin_theta**2)\n",
    "\n",
    "    if isinstance(stress, dict):\n",
    "        stress2 = {\"sig_x\": sx_p, \"sig_y\": sy_p, \"tau_xy\": txy_p}\n",
    "    else:\n",
    "        stress2 = (sx_p, sy_p, txy_p)\n",
    "    return stress2"
   ]
  },
  {
   "cell_type": "code",
   "execution_count": 57,
   "metadata": {},
   "outputs": [],
   "source": [
    "stress_list = [12., -5.5, 3.5]\n",
    "stress_dict = {\"sig_x\": 12., \"sig_y\": -5.5, \"tau_xy\": 3.5}\n",
    "\n",
    "stress2_list = [stress_transform(stress_list, angle) for angle in angles]\n",
    "stress2_dict = [stress_transform(stress_dict, angle) for angle in angles]"
   ]
  },
  {
   "cell_type": "markdown",
   "metadata": {},
   "source": [
    "## Homework questions\n",
    "\n",
    "We can all learn from your questions!"
   ]
  },
  {
   "cell_type": "code",
   "execution_count": null,
   "metadata": {},
   "outputs": [],
   "source": []
  }
 ],
 "metadata": {
  "kernelspec": {
   "display_name": "Python 3 (ipykernel)",
   "language": "python",
   "name": "python3"
  },
  "language_info": {
   "codemirror_mode": {
    "name": "ipython",
    "version": 3
   },
   "file_extension": ".py",
   "mimetype": "text/x-python",
   "name": "python",
   "nbconvert_exporter": "python",
   "pygments_lexer": "ipython3",
   "version": "3.12.4"
  }
 },
 "nbformat": 4,
 "nbformat_minor": 4
}
