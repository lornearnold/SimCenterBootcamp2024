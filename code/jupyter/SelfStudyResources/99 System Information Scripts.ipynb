{
 "cells": [
  {
   "cell_type": "markdown",
   "metadata": {},
   "source": [
    "# A Python Quick Start Tutorial - System Information Scripts\n",
    "\n",
    "## by Peter Mackenzie-Helnwein\n",
    "University of Washington, Seattle, WA\n",
    "\n",
    "pmackenz@uw.edu          \n",
    "https://www.ce.washington.edu/facultyfinder/peter-mackenzie-helnwein"
   ]
  },
  {
   "cell_type": "markdown",
   "metadata": {},
   "source": [
    "## System Information"
   ]
  },
  {
   "cell_type": "markdown",
   "metadata": {},
   "source": [
    "### Which operation system"
   ]
  },
  {
   "cell_type": "code",
   "execution_count": 1,
   "metadata": {},
   "outputs": [
    {
     "name": "stdout",
     "output_type": "stream",
     "text": [
      "macOS-14.5-arm64-arm-64bit\n",
      "Darwin\n",
      "30270137CUW357.local\n",
      "\n",
      "('', '', '', '')\n",
      "('14.5', ('', '', ''), 'arm64')\n"
     ]
    }
   ],
   "source": [
    "import platform\n",
    "\n",
    "print(platform.platform())\n",
    "print(platform.system())\n",
    "print(platform.node())\n",
    "\n",
    "print()\n",
    "\n",
    "print(platform.win32_ver())\n",
    "print(platform.mac_ver())"
   ]
  },
  {
   "cell_type": "markdown",
   "metadata": {},
   "source": [
    "### Hardware information"
   ]
  },
  {
   "cell_type": "code",
   "execution_count": 2,
   "metadata": {},
   "outputs": [
    {
     "name": "stdout",
     "output_type": "stream",
     "text": [
      "('64bit', '')\n",
      "arm64\n",
      "arm\n"
     ]
    }
   ],
   "source": [
    "import platform\n",
    "\n",
    "print(platform.architecture())\n",
    "print(platform.machine())\n",
    "print(platform.processor())"
   ]
  },
  {
   "cell_type": "markdown",
   "metadata": {},
   "source": [
    "### uname (summary)"
   ]
  },
  {
   "cell_type": "code",
   "execution_count": 3,
   "metadata": {},
   "outputs": [
    {
     "name": "stdout",
     "output_type": "stream",
     "text": [
      "uname_result(system='Darwin', node='30270137CUW357.local', release='23.5.0', version='Darwin Kernel Version 23.5.0: Wed May  1 20:14:38 PDT 2024; root:xnu-10063.121.3~5/RELEASE_ARM64_T6020', machine='arm64')\n",
      "\n",
      "sysname -> Darwin\n",
      "nodename -> 30270137CUW357.local\n",
      "release -> 23.5.0\n",
      "version -> Darwin Kernel Version 23.5.0: Wed May  1 20:14:38 PDT 2024; root:xnu-10063.121.3~5/RELEASE_ARM64_T6020\n",
      "root -> arm64\n",
      "machine -> arm\n"
     ]
    }
   ],
   "source": [
    "import platform\n",
    "\n",
    "sysinfo = platform.uname()\n",
    "print(sysinfo)\n",
    "\n",
    "print()\n",
    "\n",
    "attributes = ['sysname', 'nodename', 'release', 'version', 'root','machine','processor']\n",
    "d = {attr : value for attr,value in zip(attributes, sysinfo)}\n",
    "for key in d:\n",
    "    print(\"{} -> {}\".format(key,d[key]))"
   ]
  },
  {
   "cell_type": "markdown",
   "metadata": {},
   "source": [
    "## User Environment "
   ]
  },
  {
   "cell_type": "markdown",
   "metadata": {},
   "source": [
    "### Finding the python executable"
   ]
  },
  {
   "cell_type": "code",
   "execution_count": 4,
   "metadata": {},
   "outputs": [
    {
     "name": "stdout",
     "output_type": "stream",
     "text": [
      "/usr/local/bin/python3\n"
     ]
    }
   ],
   "source": [
    "import sys\n",
    "\n",
    "print(sys.executable)"
   ]
  },
  {
   "cell_type": "markdown",
   "metadata": {},
   "source": [
    "### Checking environment variables"
   ]
  },
  {
   "cell_type": "markdown",
   "metadata": {},
   "source": [
    "**PATH**"
   ]
  },
  {
   "cell_type": "code",
   "execution_count": 5,
   "metadata": {},
   "outputs": [
    {
     "name": "stdout",
     "output_type": "stream",
     "text": [
      "PATH=/usr/local/bin:/Users/lornearnold/Library/Python/3.12/bin:/Users/lornearnold/GitHub/y/condabin:/Library/Frameworks/Python.framework/Versions/3.12/bin:/usr/local/bin:/System/Cryptexes/App/usr/bin:/usr/bin:/bin:/usr/sbin:/sbin:/var/run/com.apple.security.cryptexd/codex.system/bootstrap/usr/local/bin:/var/run/com.apple.security.cryptexd/codex.system/bootstrap/usr/bin:/var/run/com.apple.security.cryptexd/codex.system/bootstrap/usr/appleinternal/bin:/opt/X11/bin:/Library/Apple/usr/bin:/Library/TeX/texbin:/Applications/Postgres.app/Contents/Versions/latest/bin:/opt/homebrew/bin:/Applications/Postgres.app/Contents/Versions/latest/bin:/Users/lornearnold/GitHub/y/condabin:/Library/Frameworks/Python.framework/Versions/3.12/bin:/usr/local/bin:/System/Cryptexes/App/usr/bin:/usr/bin:/bin:/usr/sbin:/sbin:/var/run/com.apple.security.cryptexd/codex.system/bootstrap/usr/local/bin:/var/run/com.apple.security.cryptexd/codex.system/bootstrap/usr/bin:/var/run/com.apple.security.cryptexd/codex.system/bootstrap/usr/appleinternal/bin:/opt/X11/bin:/Library/Apple/usr/bin:/Library/TeX/texbin:/Applications/Postgres.app/Contents/Versions/latest/bin:/opt/homebrew/bin:/Applications/Postgres.app/Contents/Versions/latest/bin\n",
      "\n",
      "PATH includes the following:\n",
      "-------------------------------\n",
      "/usr/local/bin\n",
      "/Users/lornearnold/Library/Python/3.12/bin\n",
      "/Users/lornearnold/GitHub/y/condabin\n",
      "/Library/Frameworks/Python.framework/Versions/3.12/bin\n",
      "/usr/local/bin\n",
      "/System/Cryptexes/App/usr/bin\n",
      "/usr/bin\n",
      "/bin\n",
      "/usr/sbin\n",
      "/sbin\n",
      "/var/run/com.apple.security.cryptexd/codex.system/bootstrap/usr/local/bin\n",
      "/var/run/com.apple.security.cryptexd/codex.system/bootstrap/usr/bin\n",
      "/var/run/com.apple.security.cryptexd/codex.system/bootstrap/usr/appleinternal/bin\n",
      "/opt/X11/bin\n",
      "/Library/Apple/usr/bin\n",
      "/Library/TeX/texbin\n",
      "/Applications/Postgres.app/Contents/Versions/latest/bin\n",
      "/opt/homebrew/bin\n",
      "/Applications/Postgres.app/Contents/Versions/latest/bin\n",
      "/Users/lornearnold/GitHub/y/condabin\n",
      "/Library/Frameworks/Python.framework/Versions/3.12/bin\n",
      "/usr/local/bin\n",
      "/System/Cryptexes/App/usr/bin\n",
      "/usr/bin\n",
      "/bin\n",
      "/usr/sbin\n",
      "/sbin\n",
      "/var/run/com.apple.security.cryptexd/codex.system/bootstrap/usr/local/bin\n",
      "/var/run/com.apple.security.cryptexd/codex.system/bootstrap/usr/bin\n",
      "/var/run/com.apple.security.cryptexd/codex.system/bootstrap/usr/appleinternal/bin\n",
      "/opt/X11/bin\n",
      "/Library/Apple/usr/bin\n",
      "/Library/TeX/texbin\n",
      "/Applications/Postgres.app/Contents/Versions/latest/bin\n",
      "/opt/homebrew/bin\n",
      "/Applications/Postgres.app/Contents/Versions/latest/bin\n"
     ]
    }
   ],
   "source": [
    "import os\n",
    "path = os.environ['PATH']\n",
    "\n",
    "print(f\"PATH={path}\")\n",
    "print(\"\\nPATH includes the following:\\n-------------------------------\")\n",
    "for location in path.split(':'):\n",
    "    print(location)"
   ]
  },
  {
   "cell_type": "markdown",
   "metadata": {},
   "source": [
    "**User HOME folder**"
   ]
  },
  {
   "cell_type": "code",
   "execution_count": 6,
   "metadata": {},
   "outputs": [
    {
     "name": "stdout",
     "output_type": "stream",
     "text": [
      "/Users/lornearnold\n"
     ]
    }
   ],
   "source": [
    "import os\n",
    "print(os.environ['HOME'])"
   ]
  },
  {
   "cell_type": "markdown",
   "metadata": {},
   "source": [
    "**All** environment variables"
   ]
  },
  {
   "cell_type": "code",
   "execution_count": 7,
   "metadata": {},
   "outputs": [
    {
     "name": "stdout",
     "output_type": "stream",
     "text": [
      "COMMAND_MODE=unix2003\n",
      "CONDA_SHLVL=0\n",
      "DISPLAY=/private/tmp/com.apple.launchd.NSF9N3TbQM/org.xquartz:0\n",
      "HOME=/Users/lornearnold\n",
      "LOGNAME=lornearnold\n",
      "MAMBA_EXE=/Users/lornearnold/GitHub/y/micromamba\n",
      "MAMBA_ROOT_PREFIX=/Users/lornearnold/GitHub/y\n",
      "MallocNanoZone=0\n",
      "OLDPWD=/\n",
      "ORIGINAL_XDG_CURRENT_DESKTOP=undefined\n",
      "PATH=/usr/local/bin:/Users/lornearnold/Library/Python/3.12/bin:/Users/lornearnold/GitHub/y/condabin:/Library/Frameworks/Python.framework/Versions/3.12/bin:/usr/local/bin:/System/Cryptexes/App/usr/bin:/usr/bin:/bin:/usr/sbin:/sbin:/var/run/com.apple.security.cryptexd/codex.system/bootstrap/usr/local/bin:/var/run/com.apple.security.cryptexd/codex.system/bootstrap/usr/bin:/var/run/com.apple.security.cryptexd/codex.system/bootstrap/usr/appleinternal/bin:/opt/X11/bin:/Library/Apple/usr/bin:/Library/TeX/texbin:/Applications/Postgres.app/Contents/Versions/latest/bin:/opt/homebrew/bin:/Applications/Postgres.app/Contents/Versions/latest/bin:/Users/lornearnold/GitHub/y/condabin:/Library/Frameworks/Python.framework/Versions/3.12/bin:/usr/local/bin:/System/Cryptexes/App/usr/bin:/usr/bin:/bin:/usr/sbin:/sbin:/var/run/com.apple.security.cryptexd/codex.system/bootstrap/usr/local/bin:/var/run/com.apple.security.cryptexd/codex.system/bootstrap/usr/bin:/var/run/com.apple.security.cryptexd/codex.system/bootstrap/usr/appleinternal/bin:/opt/X11/bin:/Library/Apple/usr/bin:/Library/TeX/texbin:/Applications/Postgres.app/Contents/Versions/latest/bin:/opt/homebrew/bin:/Applications/Postgres.app/Contents/Versions/latest/bin\n",
      "PWD=/\n",
      "SHELL=/bin/zsh\n",
      "SHLVL=0\n",
      "SSH_AUTH_SOCK=/private/tmp/com.apple.launchd.4kEiC8AK61/Listeners\n",
      "TMPDIR=/var/folders/q0/kxmqm5c95n7cxc6mmqklw1k40000gq/T/\n",
      "USER=lornearnold\n",
      "VSCODE_AMD_ENTRYPOINT=vs/workbench/api/node/extensionHostProcess\n",
      "VSCODE_CODE_CACHE_PATH=/Users/lornearnold/Library/Application Support/Code/CachedData/f1e16e1e6214d7c44d078b1f0607b2388f29d729\n",
      "VSCODE_CRASH_REPORTER_PROCESS_TYPE=extensionHost\n",
      "VSCODE_CWD=/\n",
      "VSCODE_HANDLES_UNCAUGHT_ERRORS=true\n",
      "VSCODE_IPC_HOOK=/Users/lornearnold/Library/Application Support/Code/1.91-main.sock\n",
      "VSCODE_NLS_CONFIG={\"locale\":\"en-us\",\"osLocale\":\"en-us\",\"availableLanguages\":{},\"_languagePackSupport\":true}\n",
      "VSCODE_PID=29556\n",
      "XPC_FLAGS=0x0\n",
      "XPC_SERVICE_NAME=application.com.microsoft.VSCode.44101219.44101225\n",
      "_=/Applications/Visual Studio Code.app/Contents/MacOS/Electron\n",
      "__CFBundleIdentifier=com.microsoft.VSCode\n",
      "__CF_USER_TEXT_ENCODING=0x1F7:0x0:0x0\n",
      "ELECTRON_RUN_AS_NODE=1\n",
      "APPLICATION_INSIGHTS_NO_DIAGNOSTIC_CHANNEL=1\n",
      "PYTHONNOUSERSITE=True\n",
      "PYDEVD_IPYTHON_COMPATIBLE_DEBUGGING=1\n",
      "PYTHONUNBUFFERED=1\n",
      "PYTHONIOENCODING=utf-8\n",
      "PYTHON_FROZEN_MODULES=on\n",
      "LC_CTYPE=UTF-8\n",
      "PYDEVD_USE_FRAME_EVAL=NO\n",
      "TERM=xterm-color\n",
      "CLICOLOR=1\n",
      "FORCE_COLOR=1\n",
      "CLICOLOR_FORCE=1\n",
      "PAGER=cat\n",
      "GIT_PAGER=cat\n",
      "MPLBACKEND=module://matplotlib_inline.backend_inline\n"
     ]
    }
   ],
   "source": [
    "import os\n",
    "\n",
    "for key in os.environ:\n",
    "    print(\"{}={}\".format(key,os.environ[key]))"
   ]
  },
  {
   "cell_type": "code",
   "execution_count": null,
   "metadata": {},
   "outputs": [],
   "source": []
  }
 ],
 "metadata": {
  "kernelspec": {
   "display_name": "Python 3",
   "language": "python",
   "name": "python3"
  },
  "language_info": {
   "codemirror_mode": {
    "name": "ipython",
    "version": 3
   },
   "file_extension": ".py",
   "mimetype": "text/x-python",
   "name": "python",
   "nbconvert_exporter": "python",
   "pygments_lexer": "ipython3",
   "version": "3.12.4"
  }
 },
 "nbformat": 4,
 "nbformat_minor": 4
}
