{
 "cells": [
  {
   "cell_type": "markdown",
   "metadata": {},
   "source": [
    "# A Python Quick Start Tutorial\n",
    "# Lesson \\#2 : More on Data Types & Loops\n",
    "## by Peter Mackenzie-Helnwein\n",
    "University of Washington, Seattle, WA\n",
    "\n",
    "pmackenz@uw.edu          \n",
    "https://www.ce.washington.edu/facultyfinder/peter-mackenzie-helnwein"
   ]
  },
  {
   "cell_type": "markdown",
   "metadata": {},
   "source": [
    "## Resources (reminder)\n",
    "\n",
    "   1. Python Docs: https://docs.python.org/3/\n",
    "   \n",
    "   1. Python Tutorial (comprehensive): https://docs.python.org/3/tutorial/index.html\n",
    "   \n",
    "   1. Python Library Reference (the nitty-gritty details): https://docs.python.org/3/library/index.html\n",
    "   \n",
    "   1. Everything else: http://google.com\n",
    "   "
   ]
  },
  {
   "cell_type": "markdown",
   "metadata": {},
   "source": [
    "## Discussing questions from the self-study assignment\n",
    "\n",
    "This section is to discuss your questions\n"
   ]
  },
  {
   "cell_type": "markdown",
   "metadata": {},
   "source": [
    "### Summary of our previous session\n",
    "\n",
    "This is the short version of all we achieved working together during our previous session.  We will be using this for further examples.\n",
    "\n",
    "**Theory**:\n",
    "Stress transformation\n",
    "\n",
    "$$\n",
    "\\begin{aligned}\n",
    "\\sigma_{x}' &= \\sigma_{x} \\cos^2\\theta + \\sigma_{y} \\sin^2\\theta + 2\\tau_{xy} \\sin\\theta \\cos\\theta \\\\\n",
    "\\sigma_{y}' &= \\sigma_{x} \\sin^2\\theta + \\sigma_{y} \\cos^2\\theta - 2\\tau_{xy} \\sin\\theta \\cos\\theta \\\\\n",
    "\\tau_{xy}'  &= (\\sigma_{y} - \\sigma_{x}) \\sin\\theta \\cos\\theta + \\tau_{xy} (\\cos^2\\theta - \\sin^2\\theta) \\\\\n",
    "\\end{aligned}\n",
    "$$\n",
    "\n",
    "**Given**:\n",
    "Stress state:\n",
    "\n",
    "$$\n",
    "\\sigma_{x} = 12~ksi~,\n",
    "~~~\n",
    "\\sigma_{y} = -5.5~ksi~,\n",
    "~~~\n",
    "\\tau_{xy} = 3.5~ksi \n",
    "$$\n",
    "\n",
    "**Find**:\n",
    "Components of stress in a rotated coordinate system for $\\theta=25^\\circ$."
   ]
  },
  {
   "cell_type": "code",
   "execution_count": 1,
   "metadata": {},
   "outputs": [
    {
     "name": "stdout",
     "output_type": "stream",
     "text": [
      "sigma_x=   12.000000 ksi\n",
      "sigma_y=   -5.500000 ksi\n",
      "tau_xy =    3.500000 ksi\n",
      "\n",
      "sigma_x=   11.555547 ksi\n",
      "sigma_y=   -5.055547 ksi\n",
      "tau_xy =   -4.453132 ksi\n",
      "\n",
      "sigma_x=   12.000000 ksi\n",
      "sigma_y=   -5.500000 ksi\n",
      "tau_xy =    3.500000 ksi\n",
      "\n"
     ]
    }
   ],
   "source": [
    "# load needed functions from library module math\n",
    "from math import sin,cos,radians\n",
    "\n",
    "# define function(s)\n",
    "def stressTransform(sigx, sigy, tauxy, theta):\n",
    "\n",
    "    th = radians(theta)\n",
    "\n",
    "    sx  = sigx * cos(th)**2 + sigy * sin(th)**2 + 2*tauxy * sin(th) * cos(th)\n",
    "    sy  = sigx * sin(th)**2 + sigy * cos(th)**2 - 2*tauxy * sin(th) * cos(th)\n",
    "    txy = (sigy - sigx) * sin(th) * cos(th) + tauxy * (cos(th)**2 - sin(th)**2) \n",
    "    \n",
    "    return (sx,sy,txy)\n",
    "\n",
    "# define some input parameters\n",
    "sigma_x = 12.\n",
    "sigma_y = -5.5\n",
    "tau_xy  =  3.5\n",
    "\n",
    "# use that function\n",
    "template = \"sigma_x={:12.6f} ksi\\nsigma_y={:12.6f} ksi\\ntau_xy ={:12.6f} ksi\\n\"\n",
    "print(template.format(*stressTransform(sigma_x, sigma_y, tau_xy, 0)))\n",
    "print(template.format(*stressTransform(sigma_x, sigma_y, tau_xy, 25)))\n",
    "print(template.format(*stressTransform(sigma_x, sigma_y, tau_xy, 180)))"
   ]
  },
  {
   "cell_type": "markdown",
   "metadata": {},
   "source": [
    "## Exercise 1: List versus dictionary\n",
    "\n",
    "You could express the stress state as\n",
    "\n",
    "1. three independent variables - the way we did it thus far\n",
    "\n",
    "2. a list of three values: `stress = `$[\\sigma_x, \\sigma_y, \\tau_{xy}]$ and replace\n",
    "\n",
    "        sigma_x --> stress[0]\n",
    "        sigma_y --> stress[1]\n",
    "        tau_xy  --> stress[2]\n",
    "        \n",
    "3. a dictionary \n",
    "\n",
    "        stress = {'sigx': 12.0, 'sigy': -5.5, 'tau':3.50}\n",
    "        \n",
    "   and replace\n",
    "\n",
    "        sigma_x --> stress['sigx']\n",
    "        sigma_y --> stress['sigy']\n",
    "        tau_xy  --> stress['tau']\n",
    "\n",
    "**Discuss**:\n",
    "\n",
    "1. Pros and cons for coding the equations\n",
    "2. Pros and cons for coding the function(s)\n",
    "3. How woud code and function change when switching from 2D to 3D (6 components instead of 3 components)\n",
    "\n",
    "**Implement**:\n",
    "An alternative version of the `stressTransform(...)` function using a dictionary as defined under item 3. above."
   ]
  },
  {
   "cell_type": "code",
   "execution_count": 2,
   "metadata": {},
   "outputs": [],
   "source": [
    "# load needed functions from library module math\n",
    "from math import sin,cos,radians\n",
    "\n",
    "def stressTransform2(stress, theta):\n",
    "    # YOUR CODE HERE ...\n",
    "\n",
    "    th    = radians(theta)\n",
    "\n",
    "    if 'sigx' in stress:\n",
    "        sigx  = stress['sigx']\n",
    "    else:\n",
    "        sigx = 0.0\n",
    "\n",
    "    if 'sigy' in stress:\n",
    "        sigy  = stress['sigy']\n",
    "    else:\n",
    "        sigy = 0.0\n",
    "\n",
    "    if 'tau' in stress:\n",
    "        tauxy = stress['tau']\n",
    "    else:\n",
    "        tauxy = 0.0\n",
    "\n",
    "    sx  = sigx * cos(th)**2 + sigy * sin(th)**2 + 2*tauxy * sin(th) * cos(th)\n",
    "    sy  = sigx * sin(th)**2 + sigy * cos(th)**2 - 2*tauxy * sin(th) * cos(th)\n",
    "    txy = (sigy - sigx) * sin(th) * cos(th) + tauxy * (cos(th)**2 - sin(th)**2) \n",
    "    \n",
    "    # stress_out is another dictionary containing the transformed stress\n",
    "    if 'sigz' in stress:\n",
    "        ans = {'sigx': sx, 'sigy': sy, 'tau':txy, 'sigz':stress['sigz']}\n",
    "    else:\n",
    "        ans = {'sigx': sx, 'sigy': sy, 'tau':txy}\n",
    "    \n",
    "    return ans"
   ]
  },
  {
   "cell_type": "markdown",
   "metadata": {},
   "source": [
    "Initialize given stress"
   ]
  },
  {
   "cell_type": "code",
   "execution_count": 3,
   "metadata": {},
   "outputs": [],
   "source": [
    "given_stress = {'sigx': 12.0, 'sigy': -5.5, 'tau':3.50, 'sigz':99.}"
   ]
  },
  {
   "cell_type": "code",
   "execution_count": 4,
   "metadata": {},
   "outputs": [
    {
     "name": "stdout",
     "output_type": "stream",
     "text": [
      "{'sigx': 12.0, 'sigy': -5.5, 'tau': 3.5, 'sigz': 99.0}\n",
      "{'sigx': 11.555547135673642, 'sigy': -5.055547135673642, 'tau': -4.453132243388171, 'sigz': 99.0}\n",
      "{'sigx': 12.0, 'sigy': -5.5, 'tau': 3.4999999999999996, 'sigz': 99.0}\n"
     ]
    }
   ],
   "source": [
    "stress2 = stressTransform2(given_stress, 25.0)\n",
    "stress3 = stressTransform2(stress2, -25.0)\n",
    "\n",
    "print(given_stress)\n",
    "print(stress2)\n",
    "print(stress3)"
   ]
  },
  {
   "cell_type": "code",
   "execution_count": 5,
   "metadata": {},
   "outputs": [
    {
     "name": "stdout",
     "output_type": "stream",
     "text": [
      "{'sigx': 12.0, 'sigy': -5.5, 'tau': 3.5}\n",
      "{'sigx': 11.555547135673642, 'sigy': -5.055547135673642, 'tau': -4.453132243388171}\n",
      "{'sigx': 12.0, 'sigy': -5.5, 'tau': 3.4999999999999996}\n"
     ]
    }
   ],
   "source": [
    "given_stress = {'sigx': 12.0, 'sigy': -5.5, 'tau':3.50}\n",
    "\n",
    "stress2 = stressTransform2(given_stress, 25.0)\n",
    "stress3 = stressTransform2(stress2, -25.0)\n",
    "\n",
    "print(given_stress)\n",
    "print(stress2)\n",
    "print(stress3)"
   ]
  },
  {
   "cell_type": "markdown",
   "metadata": {},
   "source": [
    "Add some nice print out for all transformation angles in the $\\theta$-list "
   ]
  },
  {
   "cell_type": "code",
   "execution_count": 6,
   "metadata": {},
   "outputs": [
    {
     "data": {
      "text/plain": [
       "{'sigx': 0.0, 'sigy': 0.0, 'tau': 0.0}"
      ]
     },
     "execution_count": 6,
     "metadata": {},
     "output_type": "execute_result"
    }
   ],
   "source": [
    "stressTransform2({}, 25.0)"
   ]
  },
  {
   "cell_type": "code",
   "execution_count": 7,
   "metadata": {},
   "outputs": [],
   "source": [
    "stress4 = dict( \n",
    "    sigx=12.0,  # normal stress in x-dir\n",
    "    sigy=-5.5,  # normal stress in y-dir \n",
    "    tau=3.5     # shear stress \n",
    ")"
   ]
  },
  {
   "cell_type": "code",
   "execution_count": 8,
   "metadata": {},
   "outputs": [
    {
     "data": {
      "text/plain": [
       "{'sigx': 12.0, 'sigy': -5.5, 'tau': 3.5}"
      ]
     },
     "execution_count": 8,
     "metadata": {},
     "output_type": "execute_result"
    }
   ],
   "source": [
    "stress4"
   ]
  },
  {
   "cell_type": "code",
   "execution_count": 9,
   "metadata": {},
   "outputs": [
    {
     "name": "stdout",
     "output_type": "stream",
     "text": [
      "sx=12.0,  sy=-5.5,  tau=3.5\n",
      "sx=12.0,  sy=-5.5,  tau=3.5\n",
      "sx=12.0,  sy=-5.5,  tau=3.5\n",
      "sx=12.0,  sy=-5.5,  tau=3.5\n"
     ]
    }
   ],
   "source": [
    "print(\"sx={},  sy={},  tau={}\".format(stress4['sigx'],stress4['sigy'],stress4['tau']))\n",
    "print(\"sx={s1},  sy={s2},  tau={s3}\".format(s1=stress4['sigx'],s2=stress4['sigy'],s3=stress4['tau']))\n",
    "print(\"sx={sigx},  sy={sigy},  tau={tau}\".format(sigx=stress4['sigx'],sigy=stress4['sigy'],tau=stress4['tau']))\n",
    "\n",
    "print(\"sx={sigx},  sy={sigy},  tau={tau}\".format(**stress4))"
   ]
  },
  {
   "cell_type": "code",
   "execution_count": 10,
   "metadata": {},
   "outputs": [
    {
     "name": "stdout",
     "output_type": "stream",
     "text": [
      "    0.00,   12.000000,   -5.500000,    3.500000\n",
      "   25.00,   11.555547,   -5.055547,   -4.453132\n",
      "   45.00,    6.750000,   -0.250000,   -8.750000\n",
      "   75.00,   -2.577722,    9.077722,   -7.406089\n",
      "   90.00,   -5.500000,   12.000000,   -3.500000\n",
      "  180.00,   12.000000,   -5.500000,    3.500000\n"
     ]
    }
   ],
   "source": [
    "theta_list = [0., 25., 45., 75., 90., 180.]\n",
    "\n",
    "template = \"{th:8.2f},{sigx:12.6f},{sigy:12.6f},{tau:12.6f}\"\n",
    "\n",
    "for theta in theta_list:\n",
    "    print(template.format(th=theta, **stressTransform2(given_stress, theta)))"
   ]
  },
  {
   "cell_type": "markdown",
   "metadata": {},
   "source": [
    "jupyter notebook # Windows PowerShell\n",
    "\n",
    "jupyter-notebook # Mac, Ubuntu, Linux"
   ]
  },
  {
   "cell_type": "code",
   "execution_count": 11,
   "metadata": {},
   "outputs": [
    {
     "name": "stdout",
     "output_type": "stream",
     "text": [
      "{}\n",
      "{'name': 'Peter'}\n",
      "{'name': 'Peter', 'age': 42}\n",
      "{'name': 'Peter', 'age': 58}\n",
      "{'name': 'Peter', 'age': 58, 'home': 'Seattle'}\n",
      "{'name': 23, 'age': 58, 'home': 'Seattle'}\n"
     ]
    }
   ],
   "source": [
    "data = {}\n",
    "print(data)\n",
    "data['name'] = 'Peter'\n",
    "print(data)\n",
    "data['age'] = 42\n",
    "print(data)\n",
    "data['age'] = 58\n",
    "print(data)\n",
    "data['home'] = 'Seattle'\n",
    "print(data)\n",
    "age = 'name'\n",
    "data[age] = 23\n",
    "print(data)"
   ]
  },
  {
   "cell_type": "markdown",
   "metadata": {},
   "source": [
    "### Exercise 2 : Boolean variables\n",
    "\n",
    "Badly formulated boolean expressions are a common source for faulty code.  This exercise shall emphasize how easy it is to misinterpret conditions.  Moreover, we will explore ways to test and improve our conditions.\n",
    "\n",
    "**Your Task**:\n",
    "predict the data type and value of the following boolean expressions.  Is this `True` or `False`?\n",
    "\n",
    "    17 <= 365/21  and  'Monday' < 'Friday'\n",
    "\n",
    "    'Monday'  < 'Friday'  or  cos( 3.1427 )\n",
    "\n",
    "    (100 - 99) and sin( 3.14127/3 )  or  'Friday' > 'Monday'\n",
    "    \n",
    "    (100 - 99) and sin( 3.14127/3 )  and 'Friday' > 'Monday'\n",
    "    \n",
    "    (100 - 99) or sin( 3.14127/3 )  and 'Friday' > 'Monday'\n",
    "    \n",
    "    ( (100 - 99) or sin( 3.14127/3 ) )  and 'Friday' > 'Monday'\n",
    "    \n",
    "    ( (100 - 99) and sin( 3.14127/3 ) ) or 'Friday' > 'Monday'\n",
    "    \n",
    "Write a simple test function that tells you how the computer interprets the result:\n"
   ]
  },
  {
   "cell_type": "code",
   "execution_count": 12,
   "metadata": {},
   "outputs": [
    {
     "data": {
      "text/plain": [
       "False"
      ]
     },
     "execution_count": 12,
     "metadata": {},
     "output_type": "execute_result"
    }
   ],
   "source": [
    "## YOUR CODE HERE\n",
    "17 <= 365/21  and  'Monday' < 'Friday'"
   ]
  },
  {
   "cell_type": "code",
   "execution_count": 13,
   "metadata": {},
   "outputs": [
    {
     "data": {
      "text/plain": [
       "17.38095238095238"
      ]
     },
     "execution_count": 13,
     "metadata": {},
     "output_type": "execute_result"
    }
   ],
   "source": [
    "365/21"
   ]
  },
  {
   "cell_type": "code",
   "execution_count": 14,
   "metadata": {},
   "outputs": [
    {
     "data": {
      "text/plain": [
       "True"
      ]
     },
     "execution_count": 14,
     "metadata": {},
     "output_type": "execute_result"
    }
   ],
   "source": [
    "17 <= 365/21"
   ]
  },
  {
   "cell_type": "code",
   "execution_count": 15,
   "metadata": {},
   "outputs": [
    {
     "data": {
      "text/plain": [
       "False"
      ]
     },
     "execution_count": 15,
     "metadata": {},
     "output_type": "execute_result"
    }
   ],
   "source": [
    "'Monday' < 'Friday'"
   ]
  },
  {
   "cell_type": "code",
   "execution_count": 16,
   "metadata": {},
   "outputs": [],
   "source": [
    "cd = (100 - 99) and sin( 3.14127/3 )  or  'Friday' > 'Monday'"
   ]
  },
  {
   "cell_type": "code",
   "execution_count": 17,
   "metadata": {},
   "outputs": [],
   "source": [
    "def testit(cond):\n",
    "    if cond:\n",
    "        print('True')\n",
    "    else:\n",
    "        print('False')"
   ]
  },
  {
   "cell_type": "code",
   "execution_count": 18,
   "metadata": {},
   "outputs": [
    {
     "name": "stdout",
     "output_type": "stream",
     "text": [
      "True\n"
     ]
    }
   ],
   "source": [
    "testit(cd)"
   ]
  },
  {
   "cell_type": "code",
   "execution_count": 19,
   "metadata": {},
   "outputs": [
    {
     "data": {
      "text/plain": [
       "0.865971623177473"
      ]
     },
     "execution_count": 19,
     "metadata": {},
     "output_type": "execute_result"
    }
   ],
   "source": [
    "cd"
   ]
  },
  {
   "cell_type": "code",
   "execution_count": 20,
   "metadata": {},
   "outputs": [
    {
     "name": "stdout",
     "output_type": "stream",
     "text": [
      "False\n",
      "No :(\n",
      "False\n"
     ]
    }
   ],
   "source": [
    "cd = (100 - 99) and 0  or  'Friday' > 'Monday'\n",
    "\n",
    "print(cd)\n",
    "if cd:\n",
    "    print(\"YES!\")\n",
    "else:\n",
    "    print(\"No :(\")\n",
    "    \n",
    "if cd== True:\n",
    "    print(\"True\")\n",
    "else:\n",
    "    print(\"False\")"
   ]
  },
  {
   "cell_type": "code",
   "execution_count": 21,
   "metadata": {},
   "outputs": [
    {
     "name": "stdout",
     "output_type": "stream",
     "text": [
      "True\n"
     ]
    }
   ],
   "source": [
    "testit((1,2,3))"
   ]
  },
  {
   "cell_type": "code",
   "execution_count": 22,
   "metadata": {},
   "outputs": [],
   "source": [
    "a = [1,2,3]\n",
    "\n",
    "b = (1,2,3)\n",
    "b2 = tuple(a)\n",
    "\n",
    "c = {'a':1,'b':'Peter'}\n",
    "c2 = dict(a=1,b='Peter')"
   ]
  },
  {
   "cell_type": "code",
   "execution_count": null,
   "metadata": {},
   "outputs": [],
   "source": [
    "print('step 1')\n",
    "\n",
    "if [1,2,3,4]:\n",
    "    print('has data')\n",
    "\n",
    "if 0:\n",
    "    print('step 3')"
   ]
  },
  {
   "cell_type": "markdown",
   "metadata": {},
   "source": [
    "### Exercise 3 : Writing efficient loops in python\n",
    "\n",
    "**Given**:\n",
    "Three lists containing $\\theta$, $y_1=\\sin\\theta$, and $y_2=\\cos\\theta$.\n"
   ]
  },
  {
   "cell_type": "code",
   "execution_count": null,
   "metadata": {},
   "outputs": [],
   "source": [
    "for i in range(10):\n",
    "    print(i)"
   ]
  },
  {
   "cell_type": "markdown",
   "metadata": {},
   "source": [
    "... now on to ..."
   ]
  },
  {
   "cell_type": "code",
   "execution_count": null,
   "metadata": {},
   "outputs": [],
   "source": [
    "from math import pi, sin, cos\n",
    "\n",
    "# set a parameter: N is an integer >= 1\n",
    "N = 10\n",
    "\n",
    "# initialize the lists\n",
    "theta = []\n",
    "y1 = []\n",
    "y2 = []\n",
    "\n",
    "# run this to populate the lists\n",
    "th = 0.0\n",
    "\n",
    "for i in range(N+1):\n",
    "    theta.append(th)\n",
    "    y1.append(sin(th))\n",
    "    y2.append(cos(th))\n",
    "    th += pi/N"
   ]
  },
  {
   "cell_type": "code",
   "execution_count": null,
   "metadata": {},
   "outputs": [],
   "source": [
    "theta"
   ]
  },
  {
   "cell_type": "markdown",
   "metadata": {},
   "source": [
    "**Your Task**:\n",
    "Write a loop that prints a table\n",
    "\n",
    "~~~\n",
    "theta   sin(theta)    cos(theta)\n",
    "...\n",
    "~~~\n",
    "\n",
    "1. Assume you do not know how many elements are in those lists => you'll have to figure it out\n",
    "2. use as few variables as possible\n",
    "3. The shortest working solution requires only two lines of code (more are OK, of course).\n",
    "\n",
    "**Hint**: \n",
    "If you got time left, check out the `zip` command."
   ]
  },
  {
   "cell_type": "code",
   "execution_count": null,
   "metadata": {},
   "outputs": [],
   "source": [
    "## YOUR CODE HERE"
   ]
  },
  {
   "cell_type": "code",
   "execution_count": null,
   "metadata": {},
   "outputs": [],
   "source": [
    "## YOUR BETTER CODE HERE\n",
    "\n",
    "for data in zip(theta, y1, y2):\n",
    "    print(\"{:12.6f}  {:12.6f}  {:12.6f}\".format(*data))"
   ]
  },
  {
   "cell_type": "code",
   "execution_count": null,
   "metadata": {},
   "outputs": [],
   "source": [
    "from numpy import array\n",
    "N = array([ len(theta), len(y1), len(y2) ]).min()\n",
    "\n",
    "for i in range(N):\n",
    "    print(\"{:12.6f}  {:12.6f}  {:12.6f}\".format(theta[i],y1[i],y2[i]))"
   ]
  },
  {
   "cell_type": "markdown",
   "metadata": {},
   "source": [
    "Note the important trick:\n",
    "\n",
    "Loop over **items** in a list, NOT by index!  This makes code more compact and much better readable."
   ]
  },
  {
   "cell_type": "code",
   "execution_count": null,
   "metadata": {},
   "outputs": [],
   "source": [
    "import matplotlib.pyplot as plt\n",
    "\n",
    "plt.plot(theta, y1,'-r', label='sin(x)')\n",
    "plt.plot(theta, y2,'-.g',label='cos(x)')\n",
    "plt.xlabel('x')\n",
    "plt.ylabel('f(x)')\n",
    "plt.legend()\n",
    "plt.grid()\n",
    "\n",
    "plt.savefig(\"myfigure050.png\",dpi=50)\n",
    "plt.savefig(\"myfigure100.png\",dpi=100)\n",
    "plt.savefig(\"myfigure300.png\",dpi=300)\n",
    "plt.savefig(\"myfigure300.pdf\")\n",
    "\n",
    "plt.show()"
   ]
  },
  {
   "cell_type": "markdown",
   "metadata": {},
   "source": [
    "### Exercise 4: Looping over dictionaries\n",
    "\n",
    "**Given**:\n",
    "A dictionary `your_course` is given as follows (please do a `shift-enter` to initialize it)"
   ]
  },
  {
   "cell_type": "code",
   "execution_count": 43,
   "metadata": {},
   "outputs": [],
   "source": [
    "your_course = {\n",
    "               'department':'CEE',\n",
    "               'group':'SimCenter',\n",
    "               'number':'BootCamp 2024',\n",
    "               'complexity':10,\n",
    "               'workload':0,\n",
    "               'credits':3,\n",
    "               'instructor':'Dr Peter'\n",
    "              }"
   ]
  },
  {
   "cell_type": "markdown",
   "metadata": {},
   "source": [
    "**Your tasks**:\n",
    "1. Write a loop to print all keys, one per line"
   ]
  },
  {
   "cell_type": "code",
   "execution_count": 44,
   "metadata": {},
   "outputs": [
    {
     "name": "stdout",
     "output_type": "stream",
     "text": [
      "dict_keys(['department', 'group', 'number', 'complexity', 'workload', 'credits', 'instructor'])\n"
     ]
    }
   ],
   "source": [
    "print(your_course.keys())"
   ]
  },
  {
   "cell_type": "code",
   "execution_count": 45,
   "metadata": {},
   "outputs": [
    {
     "name": "stdout",
     "output_type": "stream",
     "text": [
      "department   --> CEE\n",
      "group        --> SimCenter\n",
      "number       --> BootCamp 2024\n",
      "complexity   --> 10\n",
      "workload     --> 0\n",
      "credits      --> 3\n",
      "instructor   --> Dr Peter\n"
     ]
    }
   ],
   "source": [
    "# PREFERRED METHOD\n",
    "for key in your_course:\n",
    "    print(\"{:12s} --> {}\".format(key, your_course[key]))"
   ]
  },
  {
   "cell_type": "code",
   "execution_count": 46,
   "metadata": {},
   "outputs": [
    {
     "name": "stdout",
     "output_type": "stream",
     "text": [
      "department   --> CEE\n",
      "group        --> SimCenter\n",
      "number       --> BootCamp 2024\n",
      "complexity   --> 10\n",
      "workload     --> 0\n",
      "credits      --> 3\n",
      "instructor   --> Dr Peter\n"
     ]
    }
   ],
   "source": [
    "for key, val in zip(your_course.keys(), your_course.values()):\n",
    "    print(\"{:12s} --> {}\".format(key, val))"
   ]
  },
  {
   "cell_type": "markdown",
   "metadata": {},
   "source": [
    "2. Change complexity to 6 and workload to 8"
   ]
  },
  {
   "cell_type": "code",
   "execution_count": 47,
   "metadata": {},
   "outputs": [],
   "source": [
    "your_course['complexity'] = 6\n",
    "your_course['workload'] = 8"
   ]
  },
  {
   "cell_type": "markdown",
   "metadata": {},
   "source": [
    "3. copy and modify the loop from 1. to print \"key: value\", one per line"
   ]
  },
  {
   "cell_type": "code",
   "execution_count": 48,
   "metadata": {},
   "outputs": [
    {
     "name": "stdout",
     "output_type": "stream",
     "text": [
      "department   --> CEE\n",
      "group        --> SimCenter\n",
      "number       --> BootCamp 2024\n",
      "complexity   --> 6\n",
      "workload     --> 8\n",
      "credits      --> 3\n",
      "instructor   --> Dr Peter\n"
     ]
    }
   ],
   "source": [
    "for key in your_course:\n",
    "    print(\"{:12s} --> {}\".format(key, your_course[key]))"
   ]
  },
  {
   "cell_type": "markdown",
   "metadata": {},
   "source": [
    "4. Write a condition that checks if `your_course` has a field named `'expected_grade'`.\n",
    "    - If the field DOES exist, print **\"Field exists with value of {:3.1f}\".format(_the value associated with that key_)\"**\n",
    "    - If the field DOES NOT exist, create it and assign a sensible value, the print **\"Field created with value of {:3.1f}\".format(_the value associated with that key_)\"**"
   ]
  },
  {
   "cell_type": "code",
   "execution_count": 49,
   "metadata": {},
   "outputs": [
    {
     "name": "stdout",
     "output_type": "stream",
     "text": [
      "Field created with value of 4.0\n"
     ]
    }
   ],
   "source": [
    "if 'expected_grade' in your_course:\n",
    "    print(\"Field exists with value of {:3.1f}\".format(your_course['expected_grade']))\n",
    "else:\n",
    "    your_course['expected_grade'] = 4.0\n",
    "    print(\"Field created with value of {:3.1f}\".format(your_course['expected_grade']))\n",
    "\n",
    "#for key in your_course:\n",
    "#    print(\"{:12s} --> {}\".format(key, your_course[key]))"
   ]
  },
  {
   "cell_type": "markdown",
   "metadata": {},
   "source": [
    "Execute the above code again to verify that the new key/value pair was added"
   ]
  },
  {
   "cell_type": "code",
   "execution_count": null,
   "metadata": {},
   "outputs": [],
   "source": [
    "# just copy the code from two cells above"
   ]
  },
  {
   "cell_type": "code",
   "execution_count": null,
   "metadata": {},
   "outputs": [],
   "source": [
    "# repeat the code that prints key/value pairs"
   ]
  },
  {
   "cell_type": "markdown",
   "metadata": {},
   "source": [
    "## "
   ]
  },
  {
   "cell_type": "markdown",
   "metadata": {},
   "source": [
    "## Homework questions\n",
    "\n",
    "We can all learn from your questions!"
   ]
  },
  {
   "cell_type": "code",
   "execution_count": null,
   "metadata": {},
   "outputs": [],
   "source": []
  }
 ],
 "metadata": {
  "kernelspec": {
   "display_name": "Python 3 (ipykernel)",
   "language": "python",
   "name": "python3"
  },
  "language_info": {
   "codemirror_mode": {
    "name": "ipython",
    "version": 3
   },
   "file_extension": ".py",
   "mimetype": "text/x-python",
   "name": "python",
   "nbconvert_exporter": "python",
   "pygments_lexer": "ipython3",
   "version": "3.11.6"
  }
 },
 "nbformat": 4,
 "nbformat_minor": 4
}
